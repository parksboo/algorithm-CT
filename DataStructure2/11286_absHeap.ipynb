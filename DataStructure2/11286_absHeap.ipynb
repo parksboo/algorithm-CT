{
 "cells": [
  {
   "cell_type": "markdown",
   "metadata": {},
   "source": [
    "### 문제 : 절댓값 힙\n",
    "절댓값 힙은 다음과 같은 연산을 지원하는 자료구조이다.\n",
    "\n",
    "배열에 정수 x (x ≠ 0)를 넣는다.\n",
    "배열에서 절댓값이 가장 작은 값을 출력하고, 그 값을 배열에서 제거한다. 절댓값이 가장 작은 값이 여러개일 때는, 가장 작은 수를 출력하고, 그 값을 배열에서 제거한다.\n",
    "프로그램은 처음에 비어있는 배열에서 시작하게 된다.\n",
    "\n",
    "### 입력\n",
    "첫째 줄에 연산의 개수 N(1≤N≤100,000)이 주어진다. 다음 N개의 줄에는 연산에 대한 정보를 나타내는 정수 x가 주어진다. 만약 x가 0이 아니라면 배열에 x라는 값을 넣는(추가하는) 연산이고, x가 0이라면 배열에서 절댓값이 가장 작은 값을 출력하고 그 값을 배열에서 제거하는 경우이다. 입력되는 정수는 -231보다 크고, 231보다 작다.\n",
    "\n",
    "### 출력\n",
    "입력에서 0이 주어진 회수만큼 답을 출력한다. 만약 배열이 비어 있는 경우인데 절댓값이 가장 작은 값을 출력하라고 한 경우에는 0을 출력하면 된다."
   ]
  },
  {
   "cell_type": "code",
   "execution_count": null,
   "metadata": {},
   "outputs": [],
   "source": [
    "import sys\n",
    "import heapq\n",
    "\n",
    "i_n =int(sys.stdin.readline().strip())\n",
    "inps = [int(sys.stdin.readline().strip()) for _ in range(i_n)]\n",
    "\n",
    "heap=[]\n",
    "rs=[]\n",
    "for i in inps:\n",
    "    if i ==0:\n",
    "        if heap:\n",
    "            rs.append(heapq.heappop(heap)[1])\n",
    "        else:\n",
    "            rs.append(0)\n",
    "    else:\n",
    "        if i <0:\n",
    "            heapq.heappush(heap,(abs(i)-0.1, i))\n",
    "        else:\n",
    "            heapq.heappush(heap,(abs(i)-0.1, i))\n",
    "            \n",
    "for r in rs:\n",
    "    print(r)"
   ]
  }
 ],
 "metadata": {
  "language_info": {
   "name": "python"
  }
 },
 "nbformat": 4,
 "nbformat_minor": 2
}
