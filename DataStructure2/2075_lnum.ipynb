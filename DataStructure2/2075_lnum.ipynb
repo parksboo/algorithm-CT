{
 "cells": [
  {
   "cell_type": "markdown",
   "metadata": {},
   "source": [
    "### 문제 : N번째 큰수\n",
    "N×N의 표에 수 N2개 채워져 있다. 채워진 수에는 한 가지 특징이 있는데, 모든 수는 자신의 한 칸 위에 있는 수보다 크다는 것이다. N=5일 때의 예를 보자.\n",
    "\n",
    "12\t7\t9\t15\t5\n",
    "13\t8\t11\t19\t6\n",
    "21\t10\t26\t31\t16\n",
    "48\t14\t28\t35\t25\n",
    "52\t20\t32\t41\t49\n",
    "이러한 표가 주어졌을 때, N번째 큰 수를 찾는 프로그램을 작성하시오. 표에 채워진 수는 모두 다르다.\n",
    "\n",
    "### 입력\n",
    "첫째 줄에 N(1 ≤ N ≤ 1,500)이 주어진다. 다음 N개의 줄에는 각 줄마다 N개의 수가 주어진다. 표에 적힌 수는 -10억보다 크거나 같고, 10억보다 작거나 같은 정수이다.\n",
    "\n",
    "### 출력\n",
    "첫째 줄에 N번째 큰 수를 출력한다."
   ]
  },
  {
   "cell_type": "markdown",
   "metadata": {},
   "source": []
  },
  {
   "cell_type": "code",
   "execution_count": null,
   "metadata": {},
   "outputs": [],
   "source": [
    "import sys\n",
    "import heapq\n",
    "\n",
    "i_n = int(sys.stdin.readline().strip())\n",
    "\n",
    "matrix = [list(map(int, sys.stdin.readline().strip().split(' ')))for _ in range(i_n)]\n",
    "heap=[]\n",
    "\n",
    "for i in range(i_n):\n",
    "    for j in range(i_n):\n",
    "        tmp =matrix[i][j]\n",
    "        if len(heap)==5:\n",
    "            if tmp>heap[0]:\n",
    "                heapq.heappop(heap)\n",
    "                heapq.heappush(heap,tmp)\n",
    "        else:\n",
    "            heapq.heappush(heap, tmp)\n",
    "            \n",
    "print(heap[0])\n"
   ]
  },
  {
   "cell_type": "code",
   "execution_count": null,
   "metadata": {},
   "outputs": [],
   "source": [
    "# 공간 복잡도 - 시간 복잡도 +\n",
    "import heapq\n",
    "\n",
    "heap = []\n",
    "n = int(input())\n",
    "\n",
    "for _ in range(n):\n",
    "    numbers = map(int, input().split())\n",
    "    for number in numbers:\n",
    "        if len(heap) < n: # heap의 크기를 n개로 유지\n",
    "            heapq.heappush(heap, number)\n",
    "        else:\n",
    "            if heap[0] < number:\n",
    "                heapq.heappop(heap)\n",
    "                heapq.heappush(heap, number)\n",
    "print(heap[0])"
   ]
  }
 ],
 "metadata": {
  "language_info": {
   "name": "python"
  }
 },
 "nbformat": 4,
 "nbformat_minor": 2
}
