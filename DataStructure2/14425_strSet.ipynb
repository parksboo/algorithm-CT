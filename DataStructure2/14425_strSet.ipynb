{
 "cells": [
  {
   "cell_type": "markdown",
   "metadata": {},
   "source": [
    "### 문제 : 문자열 집합\n",
    "\n",
    "총 N개의 문자열로 이루어진 집합 S가 주어진다.\n",
    "\n",
    "입력으로 주어지는 M개의 문자열 중에서 집합 S에 포함되어 있는 것이 총 몇 개인지 구하는 프로그램을 작성하시오.\n",
    "\n",
    "### 입력\n",
    "첫째 줄에 문자열의 개수 N과 M (1 ≤ N ≤ 10,000, 1 ≤ M ≤ 10,000)이 주어진다. \n",
    "\n",
    "다음 N개의 줄에는 집합 S에 포함되어 있는 문자열들이 주어진다.\n",
    "\n",
    "다음 M개의 줄에는 검사해야 하는 문자열들이 주어진다.\n",
    "\n",
    "입력으로 주어지는 문자열은 알파벳 소문자로만 이루어져 있으며, 길이는 500을 넘지 않는다. 집합 S에 같은 문자열이 여러 번 주어지는 경우는 없다.\n",
    "\n",
    "### 출력\n",
    "첫째 줄에 M개의 문자열 중에 총 몇 개가 집합 S에 포함되어 있는지 출력한다."
   ]
  },
  {
   "cell_type": "code",
   "execution_count": null,
   "metadata": {},
   "outputs": [],
   "source": [
    "import sys\n",
    "from collections import Counter \n",
    "n,m = map(int,sys.stdin.readline().strip().split(' '))\n",
    "s =[sys.stdin.readline().strip() for _ in range(n)]\n",
    "inputs = [sys.stdin.readline().strip() for _ in range(m)]\n",
    "counter = Counter(inputs)\n",
    "r = sum([counter[x] for x in s])\n",
    "print(r)"
   ]
  },
  {
   "cell_type": "code",
   "execution_count": null,
   "metadata": {},
   "outputs": [],
   "source": [
    "5 11\n",
    "baekjoononlinejudge\n",
    "startlink\n",
    "codeplus\n",
    "sundaycoding\n",
    "codingsh\n",
    "baekjoon\n",
    "codeplus\n",
    "codeminus\n",
    "startlink\n",
    "starlink\n",
    "sundaycoding\n",
    "codingsh\n",
    "codinghs\n",
    "sondaycoding\n",
    "startrink\n",
    "icerink"
   ]
  },
  {
   "cell_type": "code",
   "execution_count": null,
   "metadata": {},
   "outputs": [],
   "source": [
    "4"
   ]
  }
 ],
 "metadata": {
  "language_info": {
   "name": "python"
  }
 },
 "nbformat": 4,
 "nbformat_minor": 2
}
