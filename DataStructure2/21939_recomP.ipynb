{
 "cells": [
  {
   "cell_type": "markdown",
   "metadata": {},
   "source": [
    "### 문제 : 문제 추천 시스템 1\n",
    "tony9402는 최근 깃헙에 코딩테스트 대비 문제를 직접 뽑아서 \"문제 번호, 난이도\"로 정리해놨다.\n",
    "\n",
    "깃헙을 이용하여 공부하시는 분들을 위해 새로운 기능을 추가해보려고 한다.\n",
    "\n",
    "만들려고 하는 명령어는 총 3가지가 있다. 아래 표는 각 명령어에 대한 설명이다.\n",
    "\n",
    "- recommend $x$ \t \n",
    "    - $x$가 1인 경우 추천 문제 리스트에서 가장 어려운 문제의 번호를 출력한다. 만약 가장 어려운 문제가 여러 개라면 문제 번호가 큰 것으로 출력한다.\n",
    "    - $x$가 -1인 경우 추천 문제 리스트에서 가장 쉬운 문제의 번호를 출력한다. 만약 가장 쉬운 문제가 여러 개라면 문제 번호가 작은 것으로 출력한다.\n",
    "\n",
    "\n",
    "- add $P$ $L$ \t\n",
    "    - 추천 문제 리스트에 난이도가 $L$인 문제 번호 $P$를 추가한다. (추천 문제 리스트에 없는 문제 번호 $P$만 입력으로 주어진다. 이전에 추천 문제 리스트에 있던 문제 번호가 다른 난이도로 다시 들어 올 수 있다.)\n",
    "\n",
    "    \n",
    "- solved $P$ \t\n",
    "    - 추천 문제 리스트에서 문제 번호 $P$를 제거한다. (추천 문제 리스트에 있는 문제 번호 $P$만 입력으로 주어진다.)\n",
    "\n",
    "명령어 recommend는 추천 문제 리스트에 문제가 하나 이상 있을 때만 주어진다.\n",
    "\n",
    "명령어 solved는 추천 문제 리스트에 문제 번호가 하나 이상 있을 때만 주어진다.\n",
    "\n",
    "위 명령어들을 수행하는 추천 시스템을 만들어보자.\n",
    "\n",
    "### 입력\n",
    "첫 번째 줄에 추천 문제 리스트에 있는 문제의 개수 $N$ 가 주어진다.\n",
    "\n",
    "두 번째 줄부터 $N + 1$ 줄까지 문제 번호 $P$와 난이도 $L$가 공백으로 구분되어 주어진다.\n",
    "\n",
    " \n",
    "$N + 2$줄은 입력될 명령문의 개수 $M$이 주어진다.\n",
    "\n",
    "그 다음줄부터 $M$개의 위에서 설명한 명령문이 입력된다.\n",
    "\n",
    "### 출력\n",
    "recommend 명령이 주어질 때마다 문제 번호를 한 줄씩 출력한다. 최소 한번의 recommend 명령어가 들어온다."
   ]
  },
  {
   "cell_type": "code",
   "execution_count": null,
   "metadata": {},
   "outputs": [],
   "source": [
    "import sys\n",
    "import heapq\n",
    "\n",
    "n=int(sys.stdin.readline().strip())\n",
    "probs = [list(map(int, sys.stdin.readline().strip().split(' '))) for _ in range(n)]\n",
    "\n",
    "n_cmds = int(sys.stdin.readline().strip())\n",
    "dic={}\n",
    "for p,l in probs:\n",
    "    dic[p]=l\n",
    "    \n",
    "    \n",
    "\n",
    "for _ in range(n_cmds):\n",
    "    cmd = sys.stdin.readline().strip().split(' ')"
   ]
  }
 ],
 "metadata": {
  "language_info": {
   "name": "python"
  }
 },
 "nbformat": 4,
 "nbformat_minor": 2
}
