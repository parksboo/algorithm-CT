{
 "cells": [
  {
   "cell_type": "markdown",
   "metadata": {},
   "source": [
    "### 문제 : 생태락\n",
    "생태학에서 나무의 분포도를 측정하는 것은 중요하다. 그러므로 당신은 미국 전역의 나무들이 주어졌을 때, 각 종이 전체에서 몇 %를 차지하는지 구하는 프로그램을 만들어야 한다.\n",
    "\n",
    "### 입력\n",
    "프로그램은 여러 줄로 이루어져 있으며, 한 줄에 하나의 나무 종 이름이 주어진다. 어떤 종 이름도 30글자를 넘지 않으며, 입력에는 최대 10,000개의 종이 주어지고 최대 1,000,000그루의 나무가 주어진다.\n",
    "\n",
    "### 출력\n",
    "주어진 각 종의 이름을 사전순으로 출력하고, 그 종이 차지하는 비율을 백분율로 소수점 4째자리까지 반올림해 함께 출력한다."
   ]
  },
  {
   "cell_type": "code",
   "execution_count": null,
   "metadata": {},
   "outputs": [],
   "source": [
    "import sys\n",
    "from collections import Counter\n",
    "\n",
    "inps=[]\n",
    "\n",
    "while True:\n",
    "    tmp = sys.stdin.readline().strip()\n",
    "    if not tmp:\n",
    "        break\n",
    "    inps.append(tmp)\n",
    "\n",
    "counter = Counter(inps)\n",
    "dic = {i:counter[i] for i in counter}\n",
    "t = sum(dic.values())\n",
    "\n",
    "for name, f in sorted(dic.items()):\n",
    "    print(f'{name} {100*f/t:.4f}')\n",
    "    "
   ]
  }
 ],
 "metadata": {
  "language_info": {
   "name": "python"
  }
 },
 "nbformat": 4,
 "nbformat_minor": 2
}
