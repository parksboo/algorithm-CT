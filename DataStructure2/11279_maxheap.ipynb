{
 "cells": [
  {
   "cell_type": "markdown",
   "metadata": {},
   "source": [
    "### 문제 : 최대힙\n",
    "널리 잘 알려진 자료구조 중 최대 힙이 있다. 최대 힙을 이용하여 다음과 같은 연산을 지원하는 프로그램을 작성하시오.\n",
    "\n",
    "배열에 자연수 x를 넣는다.\n",
    "배열에서 가장 큰 값을 출력하고, 그 값을 배열에서 제거한다.\n",
    "프로그램은 처음에 비어있는 배열에서 시작하게 된다.\n",
    "\n",
    "### 입력\n",
    "첫째 줄에 연산의 개수 N(1 ≤ N ≤ 100,000)이 주어진다. 다음 N개의 줄에는 연산에 대한 정보를 나타내는 정수 x가 주어진다. 만약 x가 자연수라면 배열에 x라는 값을 넣는(추가하는) 연산이고, x가 0이라면 배열에서 가장 큰 값을 출력하고 그 값을 배열에서 제거하는 경우이다. 입력되는 자연수는 231보다 작다.\n",
    "\n",
    "### 출력\n",
    "입력에서 0이 주어진 횟수만큼 답을 출력한다. 만약 배열이 비어 있는 경우인데 가장 큰 값을 출력하라고 한 경우에는 0을 출력하면 된다."
   ]
  },
  {
   "cell_type": "code",
   "execution_count": null,
   "metadata": {},
   "outputs": [],
   "source": [
    "import sys\n",
    "import heapq\n",
    "n_i = int(sys.stdin.readline().strip())\n",
    "inps = [int(sys.stdin.readline().strip()) for _ in range(n_i)]\n",
    "heap=[]\n",
    "rs=[]\n",
    "for num in inps:\n",
    "    if num ==0:\n",
    "        if heap:\n",
    "            rs.append(heapq.heappop(heap)[1])\n",
    "        else:\n",
    "            rs.append(0)\n",
    "    else:\n",
    "        heapq.heappush(heap,(-num,num))\n",
    "for r in rs:\n",
    "    print(r)\n",
    "        "
   ]
  },
  {
   "cell_type": "markdown",
   "metadata": {},
   "source": []
  },
  {
   "cell_type": "code",
   "execution_count": null,
   "metadata": {},
   "outputs": [],
   "source": [
    "13\n",
    "0\n",
    "1\n",
    "2\n",
    "0\n",
    "0\n",
    "3\n",
    "2\n",
    "1\n",
    "0\n",
    "0\n",
    "0\n",
    "0\n",
    "0"
   ]
  },
  {
   "cell_type": "code",
   "execution_count": null,
   "metadata": {},
   "outputs": [],
   "source": [
    "0\n",
    "2\n",
    "1\n",
    "3\n",
    "2\n",
    "1\n",
    "0\n",
    "0"
   ]
  }
 ],
 "metadata": {
  "language_info": {
   "name": "python"
  }
 },
 "nbformat": 4,
 "nbformat_minor": 2
}
