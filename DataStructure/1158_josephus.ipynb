{
 "cells": [
  {
   "cell_type": "markdown",
   "metadata": {},
   "source": [
    "### 문제 : 요세푸스\n",
    "요세푸스 문제는 다음과 같다.\n",
    "\n",
    "1번부터 N번까지 N명의 사람이 원을 이루면서 앉아있고, 양의 정수 K(≤ N)가 주어진다. 이제 순서대로 K번째 사람을 제거한다. 한 사람이 제거되면 남은 사람들로 이루어진 원을 따라 이 과정을 계속해 나간다. 이 과정은 N명의 사람이 모두 제거될 때까지 계속된다. 원에서 사람들이 제거되는 순서를 (N, K)-요세푸스 순열이라고 한다. 예를 들어 (7, 3)-요세푸스 순열은 <3, 6, 2, 7, 5, 1, 4>이다.\n",
    "\n",
    "N과 K가 주어지면 (N, K)-요세푸스 순열을 구하는 프로그램을 작성하시오.\n",
    "\n",
    "### 입력\n",
    "첫째 줄에 N과 K가 빈 칸을 사이에 두고 순서대로 주어진다. (1 ≤ K ≤ N ≤ 5,000)\n",
    "\n",
    "### 출력\n",
    "예제와 같이 요세푸스 순열을 출력한다."
   ]
  },
  {
   "cell_type": "code",
   "execution_count": null,
   "metadata": {},
   "outputs": [],
   "source": [
    "# 7 3"
   ]
  },
  {
   "cell_type": "code",
   "execution_count": 1,
   "metadata": {},
   "outputs": [
    {
     "name": "stdout",
     "output_type": "stream",
     "text": [
      "<1>\n"
     ]
    }
   ],
   "source": [
    "class node:\n",
    "    def __init__(self, val=0, next=None):\n",
    "        self.val = val\n",
    "        self.next = next\n",
    "\n",
    "class llist:\n",
    "    def __init__(self,val):\n",
    "        self.node = node(val)\n",
    "        self.curr=self.node\n",
    "        self.node.next =self.node\n",
    "        self.head = self.node\n",
    "        \n",
    "        \n",
    "    def add(self,val):\n",
    "        self.curr.next = node(val,self.head)\n",
    "        self.curr = self.curr.next\n",
    "        \n",
    "input = input().split()\n",
    "n= int(input[0])\n",
    "k=int(input[1])\n",
    "cnt=-1\n",
    "\n",
    "for i in range(1,n+1):\n",
    "    if i==1:\n",
    "        ll=llist(i)\n",
    "    else:\n",
    "        ll.add(i)\n",
    "\n",
    "result=[]\n",
    "current=ll.curr\n",
    "\n",
    "while(current.next.val):\n",
    "    for num in range(k-1):\n",
    "        current = current.next\n",
    "    result.append(current.next.val)\n",
    "    current.next.val=None\n",
    "    current.next = current.next.next\n",
    "    if current == current.next:\n",
    "        result.append(current.next.val) if current.next.val else 0\n",
    "        break\n",
    "\n",
    "print(str(result).replace('[','<').replace(']','>'))"
   ]
  }
 ],
 "metadata": {
  "kernelspec": {
   "display_name": "Python 3",
   "language": "python",
   "name": "python3"
  },
  "language_info": {
   "codemirror_mode": {
    "name": "ipython",
    "version": 3
   },
   "file_extension": ".py",
   "mimetype": "text/x-python",
   "name": "python",
   "nbconvert_exporter": "python",
   "pygments_lexer": "ipython3",
   "version": "3.9.6"
  }
 },
 "nbformat": 4,
 "nbformat_minor": 2
}
