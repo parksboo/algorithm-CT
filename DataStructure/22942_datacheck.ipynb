{
 "cells": [
  {
   "cell_type": "markdown",
   "metadata": {},
   "source": [
    "### 문제 : 데이터체커\n",
    "원 이동하기 2 문제를 만들고 만든 데이터가 문제의 조건에 맞는지 확인하는 코드를 작성해야한다.\n",
    "\n",
    "해당 문제의 데이터는 아래 조건들을 만족해야한다.\n",
    "\n",
    "- 모든 원의 중심 좌표는 $x$축 위에 존재해야 한다.\n",
    " \n",
    "- $N$개의 원 중 임의의 두 원을 선택했을 때, 교점이 존재하지 않아야 한다. 즉, 하나의 원이 다른 원 안에 존재하거나 외부에 존재한다.\n",
    "\n",
    "데이터 형식은 원의 개수 \n",
    "$N$이랑 각 원의 중심 \n",
    "$x$좌표, 원의 반지름 \n",
    "$r$만 주어진다. 따라서, 2번 조건을 만족하는지만 확인하면 된다.\n",
    "\n",
    "주어진 데이터가 해당 조건을 만족하는지 확인해보자.\n",
    "\n",
    "### 입력\n",
    "첫 번째 줄에는 원의 개수 \n",
    "$N$이 주어진다.\n",
    "\n",
    "두 번째 줄부터 \n",
    "$N+1$번째 줄까지 원의 중심 \n",
    "$x$좌표, 원의 반지름 \n",
    "$r$이 공백으로 구분되어 주어진다.\n",
    "\n",
    "### 출력\n",
    "데이터가 조건에 맞는다면 YES, 조건에 만족하지 않는다면 NO를 출력한다."
   ]
  },
  {
   "cell_type": "code",
   "execution_count": null,
   "metadata": {},
   "outputs": [],
   "source": [
    "import sys\n",
    "\n",
    "i_n = int(sys.stdin.readline().strip())\n",
    "cs = [list(map(int,sys.stdin.readline().strip().split(' ') )) for _ in range(i_n)]\n",
    "\n",
    "case=[]\n",
    "no=0\n",
    "for x,r in cs:\n",
    "    init = x-r\n",
    "    fin = x+r\n",
    "    if not no:\n",
    "        if case:\n",
    "            for b_i,b_f in case:\n",
    "                if (fin >= b_f and (init <=b_f and init>=b_i)) or ((fin <=b_f and fin>=b_i) and init<=b_i):\n",
    "                    print('NO')\n",
    "                    no=1\n",
    "                    break\n",
    "                \n",
    "        else:\n",
    "            case.append([init,fin])\n",
    "    \n",
    "if not no:\n",
    "    print('YES')"
   ]
  },
  {
   "cell_type": "code",
   "execution_count": null,
   "metadata": {},
   "outputs": [],
   "source": [
    "3\n",
    "5 1\n",
    "5 2\n",
    "5 3"
   ]
  },
  {
   "cell_type": "code",
   "execution_count": null,
   "metadata": {},
   "outputs": [],
   "source": [
    "YES"
   ]
  },
  {
   "cell_type": "code",
   "execution_count": null,
   "metadata": {},
   "outputs": [],
   "source": [
    "4\n",
    "5 4\n",
    "3 1\n",
    "6 1\n",
    "13 3"
   ]
  },
  {
   "cell_type": "code",
   "execution_count": null,
   "metadata": {},
   "outputs": [],
   "source": [
    "YES"
   ]
  },
  {
   "cell_type": "code",
   "execution_count": null,
   "metadata": {},
   "outputs": [],
   "source": [
    "4\n",
    "3 1\n",
    "4 1\n",
    "5 1\n",
    "6 5"
   ]
  },
  {
   "cell_type": "code",
   "execution_count": null,
   "metadata": {},
   "outputs": [],
   "source": [
    "NO"
   ]
  }
 ],
 "metadata": {
  "language_info": {
   "name": "python"
  }
 },
 "nbformat": 4,
 "nbformat_minor": 2
}
