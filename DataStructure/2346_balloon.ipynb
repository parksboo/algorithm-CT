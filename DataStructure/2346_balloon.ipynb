{
 "cells": [
  {
   "cell_type": "markdown",
   "metadata": {},
   "source": [
    "### 문제 : 풍선터뜨리기\n",
    "1번부터 N번까지 N개의 풍선이 원형으로 놓여 있고. i번 풍선의 오른쪽에는 i+1번 풍선이 있고, 왼쪽에는 i-1번 풍선이 있다. 단, 1번 풍선의 왼쪽에 N번 풍선이 있고, N번 풍선의 오른쪽에 1번 풍선이 있다. 각 풍선 안에는 종이가 하나 들어있고, 종이에는 -N보다 크거나 같고, N보다 작거나 같은 정수가 하나 적혀있다. 이 풍선들을 다음과 같은 규칙으로 터뜨린다.\n",
    "\n",
    "우선, 제일 처음에는 1번 풍선을 터뜨린다. 다음에는 풍선 안에 있는 종이를 꺼내어 그 종이에 적혀있는 값만큼 이동하여 다음 풍선을 터뜨린다. 양수가 적혀 있을 경우에는 오른쪽으로, 음수가 적혀 있을 때는 왼쪽으로 이동한다. 이동할 때에는 이미 터진 풍선은 빼고 이동한다.\n",
    "\n",
    "예를 들어 다섯 개의 풍선 안에 차례로 3, 2, 1, -3, -1이 적혀 있었다고 하자. 이 경우 3이 적혀 있는 1번 풍선, -3이 적혀 있는 4번 풍선, -1이 적혀 있는 5번 풍선, 1이 적혀 있는 3번 풍선, 2가 적혀 있는 2번 풍선의 순서대로 터지게 된다.\n",
    "\n",
    "### 입력\n",
    "첫째 줄에 자연수 N(1 ≤ N ≤ 1,000)이 주어진다. 다음 줄에는 차례로 각 풍선 안의 종이에 적혀 있는 수가 주어진다. 종이에 0은 적혀있지 않다.\n",
    "\n",
    "### 출력\n",
    "첫째 줄에 터진 풍선의 번호를 차례로 나열한다."
   ]
  },
  {
   "cell_type": "code",
   "execution_count": 39,
   "metadata": {},
   "outputs": [
    {
     "name": "stdout",
     "output_type": "stream",
     "text": [
      "[1, 4, 5, 3, 2]\n"
     ]
    }
   ],
   "source": [
    "import sys\n",
    "\n",
    "n_i=int(sys.stdin.readline().strip())\n",
    "balloons = list(map(int,sys.stdin.readline().strip().split(' ')))\n",
    "\n",
    "\n",
    "class node:\n",
    "    def __init__(self,val=0,paper=0,next=None,prev=None):\n",
    "        self.val=val\n",
    "        self.p=paper\n",
    "        self.next=next\n",
    "        self.prev=prev\n",
    "class llist:\n",
    "    def __init__(self,val,paper):\n",
    "        self.node = node(val,paper)\n",
    "        self.node.next = self.node\n",
    "        self.node.prev = self.node\n",
    "        self.curr = self.node\n",
    "        self.head = self.node\n",
    "    def add(self,val,paper):\n",
    "        new_node = node(val, paper, self.head, self.curr)\n",
    "        self.curr.next = new_node\n",
    "        self.head.prev = new_node\n",
    "        self.curr = new_node\n",
    "\n",
    "\n",
    "for idx, p in enumerate(balloons):\n",
    "    if not idx:\n",
    "        lbals = llist(idx+1,p)\n",
    "    else:\n",
    "        lbals.add(idx+1,p)\n",
    "current= lbals.head\n",
    "r=[]\n",
    "while True:\n",
    "    r.append(current.val)\n",
    "    if(current.next==current):\n",
    "        break\n",
    "    next_m = current.p\n",
    "    next_node = current.next if next_m > 0 else current.prev\n",
    "    \n",
    "    current.prev.next = current.next\n",
    "    current.next.prev = current.prev\n",
    "    del(current)\n",
    "    \n",
    "    current = next_node\n",
    "    for _ in range(abs(next_m)-1):\n",
    "        if next_m>0:\n",
    "            current = current.next\n",
    "        else:\n",
    "            current=current.prev\n",
    "\n",
    "print(str(r).replace(',','').replace('[','').replace(']',''))"
   ]
  },
  {
   "cell_type": "code",
   "execution_count": null,
   "metadata": {},
   "outputs": [],
   "source": [
    "5\n",
    "3 2 1 -3 -1"
   ]
  },
  {
   "cell_type": "code",
   "execution_count": null,
   "metadata": {},
   "outputs": [],
   "source": [
    "1 4 5 3 2"
   ]
  }
 ],
 "metadata": {
  "kernelspec": {
   "display_name": "Python 3",
   "language": "python",
   "name": "python3"
  },
  "language_info": {
   "codemirror_mode": {
    "name": "ipython",
    "version": 3
   },
   "file_extension": ".py",
   "mimetype": "text/x-python",
   "name": "python",
   "nbconvert_exporter": "python",
   "pygments_lexer": "ipython3",
   "version": "3.9.6"
  }
 },
 "nbformat": 4,
 "nbformat_minor": 2
}
