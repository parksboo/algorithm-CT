{
 "cells": [
  {
   "cell_type": "markdown",
   "metadata": {},
   "source": [
    "### 문제 : 괄호제거\n",
    "어떤 수식이 주어졌을 때, 괄호를 제거해서 나올 수 있는 서로 다른 식의 개수를 계산하는 프로그램을 작성하시오.\n",
    "\n",
    "이 수식은 괄호가 올바르게 쳐져 있다. 예를 들면, 1+2, (3+4), (3+4*(5+6))와 같은 식은 괄호가 서로 쌍이 맞으므로 올바른 식이다.\n",
    "\n",
    "하지만, 1+(2*3, ((2+3)*4 와 같은 식은 쌍이 맞지 않는 괄호가 있으므로 올바른 식이 아니다.\n",
    "\n",
    "괄호를 제거할 때는, 항상 쌍이 되는 괄호끼리 제거해야 한다.\n",
    "\n",
    "예를들어 (2+(2*2)+2)에서 괄호를 제거하면, (2+2*2+2), 2+(2*2)+2, 2+2*2+2를 만들 수 있다. 하지만, (2+2*2)+2와 2+(2*2+2)는 만들 수 없다. 그 이유는 쌍이 되지 않는 괄호를 제거했기 때문이다.\n",
    "\n",
    "어떤 식을 여러 쌍의 괄호가 감쌀 수 있다.\n",
    "\n",
    "### 입력\n",
    "첫째 줄에 음이 아닌 정수로 이루어진 수식이 주어진다. 이 수식은 괄호가 올바르게 쳐져있다. 숫자, '+', '*', '-', '/', '(', ')'로만 이루어져 있다. 수식의 길이는 최대 200이고, 괄호 쌍은 적어도 1개, 많아야 10개이다. \n",
    "\n",
    "### 출력\n",
    "올바른 괄호 쌍을 제거해서 나올 수 있는 서로 다른 식을 사전 순으로 출력한다."
   ]
  },
  {
   "cell_type": "code",
   "execution_count": null,
   "metadata": {},
   "outputs": [],
   "source": [
    "import sys\n",
    "from itertools import combinations\n",
    "i = list(sys.stdin.readline().strip())\n",
    "dic={}\n",
    "pair={}\n",
    "stack=[]\n",
    "rs=[]\n",
    "for idx,el in enumerate(i):\n",
    "    if el =='(':\n",
    "        dic[idx]=el\n",
    "        stack.append(idx)\n",
    "    elif el ==')':\n",
    "        p1 = stack.pop()\n",
    "        p2 = idx\n",
    "        pair[p1]=p2\n",
    "        dic[idx]=el\n",
    "    else:\n",
    "        dic[idx]=el\n",
    "        \n",
    "for l in range(len(pair)):\n",
    "    for r_idx in combinations(pair,l+1):\n",
    "        tmp = dic.copy()\n",
    "        for num in r_idx:\n",
    "            del tmp[pair[num]]\n",
    "            del tmp[num]\n",
    "        rs.append(''.join(list(tmp.values())))\n",
    "\n",
    "for r in sorted(set(rs)):\n",
    "    print(r)\n"
   ]
  },
  {
   "cell_type": "code",
   "execution_count": null,
   "metadata": {},
   "outputs": [],
   "source": [
    "(1+(2*(3+4)))"
   ]
  },
  {
   "cell_type": "code",
   "execution_count": null,
   "metadata": {},
   "outputs": [],
   "source": [
    "(1+(2*3+4))\n",
    "(1+2*(3+4))\n",
    "(1+2*3+4)\n",
    "1+(2*(3+4))\n",
    "1+(2*3+4)\n",
    "1+2*(3+4)\n",
    "1+2*3+4"
   ]
  }
 ],
 "metadata": {
  "language_info": {
   "name": "python"
  }
 },
 "nbformat": 4,
 "nbformat_minor": 2
}
