{
 "cells": [
  {
   "cell_type": "markdown",
   "metadata": {},
   "source": [
    "### 문제 deque\n",
    "정수를 저장하는 덱(Deque)를 구현한 다음, 입력으로 주어지는 명령을 처리하는 프로그램을 작성하시오.\n",
    "\n",
    "명령은 총 여덟 가지이다.\n",
    "\n",
    "- push_front X: 정수 X를 덱의 앞에 넣는다.\n",
    "- push_back X: 정수 X를 덱의 뒤에 넣는다.\n",
    "- pop_front: 덱의 가장 앞에 있는 수를 빼고, 그 수를 출력한다. 만약, 덱에 들어있는 정수가 없는 경우에는 -1을 출력한다.\n",
    "- pop_back: 덱의 가장 뒤에 있는 수를 빼고, 그 수를 출력한다. 만약, 덱에 들어있는 정수가 없는 경우에는 -1을 출력한다.\n",
    "- size: 덱에 들어있는 정수의 개수를 출력한다.\n",
    "- empty: 덱이 비어있으면 1을, 아니면 0을 출력한다.\n",
    "- front: 덱의 가장 앞에 있는 정수를 출력한다. 만약 덱에 들어있는 정수가 없는 경우에는 -1을 출력한다.\n",
    "- back: 덱의 가장 뒤에 있는 정수를 출력한다. 만약 덱에 들어있는 정수가 없는 경우에는 -1을 출력한다.\n",
    "### 입력\n",
    "첫째 줄에 주어지는 명령의 수 N (1 ≤ N ≤ 10,000)이 주어진다. 둘째 줄부터 N개의 줄에는 명령이 하나씩 주어진다. 주어지는 정수는 1보다 크거나 같고, 100,000보다 작거나 같다. 문제에 나와있지 않은 명령이 주어지는 경우는 없다.\n",
    "\n",
    "### 출력\n",
    "출력해야하는 명령이 주어질 때마다, 한 줄에 하나씩 출력한다.\n",
    "\n"
   ]
  },
  {
   "cell_type": "code",
   "execution_count": 8,
   "metadata": {},
   "outputs": [],
   "source": [
    "from collections import deque\n",
    "\n",
    "n_input = int(input())\n",
    "inputs=[input() for _ in range(n_input)]\n",
    "outputs=[]\n",
    "dtest=deque()\n",
    "\n",
    "for inst in inputs:\n",
    "    cmd = inst.split()\n",
    "    if cmd[0]=='push_back':\n",
    "        dtest.append(int(cmd[1]))\n",
    "    elif cmd[0]=='push_front':\n",
    "        dtest.appendleft(int(cmd[1]))\n",
    "    elif cmd[0]=='pop_back':\n",
    "        outputs.append(-1 if not dtest else dtest.pop())\n",
    "    elif cmd[0]=='pop_front':\n",
    "        outputs.append(-1 if not dtest else dtest.popleft())\n",
    "    elif cmd[0]=='size':\n",
    "        outputs.append(len(dtest))\n",
    "    elif cmd[0]=='empty':\n",
    "        outputs.append(1 if not dtest else 0)\n",
    "    elif cmd[0]=='front':\n",
    "        outputs.append(-1 if not dtest else dtest[0])\n",
    "    elif cmd[0]=='back':\n",
    "        outputs.append(-1 if not dtest else dtest[-1])    \n",
    "for r in outputs:\n",
    "    print(r)"
   ]
  },
  {
   "cell_type": "code",
   "execution_count": null,
   "metadata": {},
   "outputs": [],
   "source": [
    "# 15\n",
    "# push_back 1\n",
    "# push_front 2\n",
    "# front\n",
    "# back\n",
    "# size\n",
    "# empty\n",
    "# pop_front\n",
    "# pop_back\n",
    "# pop_front\n",
    "# size\n",
    "# empty\n",
    "# pop_back\n",
    "# push_front 3\n",
    "# empty\n",
    "# front"
   ]
  },
  {
   "cell_type": "code",
   "execution_count": null,
   "metadata": {},
   "outputs": [],
   "source": [
    "# 2\n",
    "# 1\n",
    "# 2\n",
    "# 0\n",
    "# 2\n",
    "# 1\n",
    "# -1\n",
    "# 0\n",
    "# 1\n",
    "# -1\n",
    "# 0\n",
    "# 3"
   ]
  }
 ],
 "metadata": {
  "kernelspec": {
   "display_name": "Python 3",
   "language": "python",
   "name": "python3"
  },
  "language_info": {
   "codemirror_mode": {
    "name": "ipython",
    "version": 3
   },
   "file_extension": ".py",
   "mimetype": "text/x-python",
   "name": "python",
   "nbconvert_exporter": "python",
   "pygments_lexer": "ipython3",
   "version": "3.9.6"
  }
 },
 "nbformat": 4,
 "nbformat_minor": 2
}
