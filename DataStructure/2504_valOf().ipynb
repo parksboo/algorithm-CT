{
 "cells": [
  {
   "cell_type": "markdown",
   "metadata": {},
   "source": [
    "### 문제 : 괄호의 값\n",
    "4개의 기호 ‘(’, ‘)’, ‘[’, ‘]’를 이용해서 만들어지는 괄호열 중에서 올바른 괄호열이란 다음과 같이 정의된다.\n",
    "\n",
    "한 쌍의 괄호로만 이루어진 ‘()’와 ‘[]’는 올바른 괄호열이다.\n",
    "만일 X가 올바른 괄호열이면 ‘(X)’이나 ‘[X]’도 모두 올바른 괄호열이 된다.\n",
    "X와 Y 모두 올바른 괄호열이라면 이들을 결합한 XY도 올바른 괄호열이 된다.\n",
    "예를 들어 ‘(()[[]])’나 ‘(())[][]’ 는 올바른 괄호열이지만 ‘([)]’ 나 ‘(()()[]’ 은 모두 올바른 괄호열이 아니다. 우리는 어떤 올바른 괄호열 X에 대하여 그 괄호열의 값(괄호값)을 아래와 같이 정의하고 값(X)로 표시한다.\n",
    "\n",
    "- ‘()’ 인 괄호열의 값은 2이다.\n",
    "- ‘[]’ 인 괄호열의 값은 3이다.\n",
    "- ‘(X)’ 의 괄호값은 2×값(X) 으로 계산된다.\n",
    "- ‘[X]’ 의 괄호값은 3×값(X) 으로 계산된다.\n",
    "올바른 괄호열 X와 Y가 결합된 XY의 괄호값은 값(XY)= 값(X)+값(Y) 로 계산된다.\n",
    "예를 들어 ‘(()[[]])([])’ 의 괄호값을 구해보자. ‘()[[]]’ 의 괄호값이 2 + 3×3=11 이므로 ‘(()[[]])’의 괄호값은 2×11=22 이다. 그리고 ‘([])’의 값은 2×3=6 이므로 전체 괄호열의 값은 22 + 6 = 28 이다.\n",
    "\n",
    "여러분이 풀어야 할 문제는 주어진 괄호열을 읽고 그 괄호값을 앞에서 정의한대로 계산하여 출력하는 것이다.\n",
    "\n",
    "### 입력\n",
    "첫째 줄에 괄호열을 나타내는 문자열(스트링)이 주어진다. 단 그 길이는 1 이상, 30 이하이다.\n",
    "\n",
    "### 출력\n",
    "첫째 줄에 그 괄호열의 값을 나타내는 정수를 출력한다. 만일 입력이 올바르지 못한 괄호열이면 반드시 0을 출력해야 한다."
   ]
  },
  {
   "cell_type": "code",
   "execution_count": null,
   "metadata": {},
   "outputs": [],
   "source": [
    "import sys\n",
    "\n",
    "stack_init = list(sys.stdin.readline().strip())\n",
    "stack_tmp=[]\n",
    "stack_val=[1]\n",
    "right = {')':'(',']':'['}\n",
    "\n",
    "while stack_init:\n",
    "    if stack_init[-1] in right:\n",
    "        stack_tmp.append(stack_init.pop())\n",
    "    elif False if not stack_tmp else (stack_init[-1]==right[stack_tmp[-1]]):\n",
    "        stack_tmp.pop()\n",
    "        tmp = stack_init.pop()\n",
    "        val = stack_val.pop()\n",
    "        val*= 2 if tmp =='(' else 3\n",
    "        stack_val.append(val)\n",
    "    \n",
    "        while stack_tmp and stack_tmp[-1]=='+':\n",
    "            v1=stack_val.pop()\n",
    "            v2=stack_val.pop()\n",
    "            stack_val.append(v1+v2)\n",
    "            stack_tmp.pop()\n",
    "        if stack_init and (stack_init[-1] in right):\n",
    "            stack_tmp.append('+')\n",
    "            stack_val.append(1)\n",
    "    else:\n",
    "        break\n",
    "if stack_init or stack_tmp:\n",
    "    print(0)\n",
    "else:\n",
    "    print(stack_val[0])"
   ]
  },
  {
   "cell_type": "code",
   "execution_count": null,
   "metadata": {},
   "outputs": [],
   "source": [
    "(()[[]])([])"
   ]
  },
  {
   "cell_type": "code",
   "execution_count": null,
   "metadata": {},
   "outputs": [],
   "source": [
    "28"
   ]
  }
 ],
 "metadata": {
  "language_info": {
   "name": "python"
  }
 },
 "nbformat": 4,
 "nbformat_minor": 2
}
