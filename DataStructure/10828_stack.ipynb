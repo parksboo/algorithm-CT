{
 "cells": [
  {
   "cell_type": "markdown",
   "metadata": {},
   "source": [
    "## 문제 : 스택\n",
    "\n",
    "정수를 저장하는 스택을 구현한 다음, 입력으로 주어지는 명령을 처리하는 프로그램을 작성하시오.\n",
    "\n",
    "명령은 총 다섯 가지이다.\n",
    "\n",
    "- push X: 정수 X를 스택에 넣는 연산이다.\n",
    "- pop: 스택에서 가장 위에 있는 정수를 빼고, 그 수를 출력한다. 만약 스택에 들어있는 정수가 없는 경우에는 -1을 출력한다.\n",
    "- size: 스택에 들어있는 정수의 개수를 출력한다.\n",
    "- empty: 스택이 비어있으면 1, 아니면 0을 출력한다.\n",
    "- top: 스택의 가장 위에 있는 정수를 출력한다. 만약 스택에 들어있는 정수가 없는 경우에는 -1을 출력한다."
   ]
  },
  {
   "cell_type": "markdown",
   "metadata": {},
   "source": [
    "### 입력\n",
    "첫째 줄에 주어지는 명령의 수 N (1 ≤ N ≤ 10,000)이 주어진다. 둘째 줄부터 N개의 줄에는 명령이 하나씩 주어진다. 주어지는 정수는 1보다 크거나 같고, 100,000보다 작거나 같다. 문제에 나와있지 않은 명령이 주어지는 경우는 없다.\n",
    "\n",
    "### 출력\n",
    "출력해야하는 명령이 주어질 때마다, 한 줄에 하나씩 출력한다.\n"
   ]
  },
  {
   "cell_type": "code",
   "execution_count": null,
   "metadata": {},
   "outputs": [],
   "source": [
    "# 예제 입력\n",
    "# 14\n",
    "# push 1\n",
    "# push 2\n",
    "# top\n",
    "# size\n",
    "# empty\n",
    "# pop\n",
    "# pop\n",
    "# pop\n",
    "# size\n",
    "# empty\n",
    "# pop\n",
    "# push 3\n",
    "# empty\n",
    "# top\n",
    "\n",
    "# 3\n",
    "# push 1\n",
    "# push 2\n",
    "# top"
   ]
  },
  {
   "cell_type": "code",
   "execution_count": 35,
   "metadata": {},
   "outputs": [
    {
     "name": "stdout",
     "output_type": "stream",
     "text": [
      "1\n",
      "-1\n"
     ]
    }
   ],
   "source": [
    "\n",
    "class stack:\n",
    "    def __init__(self):\n",
    "        self.items=[]\n",
    "    def push(self, num):\n",
    "        self.items.append(num)\n",
    "    def pop(self):\n",
    "        print(-1 if not self.items else self.items.pop())\n",
    "    def size(self):\n",
    "        print(len(self.items))\n",
    "    def empty(self):\n",
    "        print(1 if not self.items else 0)\n",
    "    def top(self):\n",
    "        print(-1 if not self.items else self.items[-1])\n",
    "        \n",
    "n_cmd = int(input())\n",
    "cmds = [input() for _ in range(n_cmd)]\n",
    "test=stack()\n",
    "\n",
    "test_stack={'push':test.push,\n",
    "            'pop':test.pop,\n",
    "            'size':test.size,\n",
    "            'empty':test.empty,\n",
    "            'top':test.top\n",
    "            }\n",
    "\n",
    "for cmd in cmds:\n",
    "    cmd=cmd.split()\n",
    "    test_stack[cmd[0]](*cmd[1:])\n",
    "    "
   ]
  },
  {
   "cell_type": "code",
   "execution_count": null,
   "metadata": {},
   "outputs": [],
   "source": []
  }
 ],
 "metadata": {
  "kernelspec": {
   "display_name": "Python 3",
   "language": "python",
   "name": "python3"
  },
  "language_info": {
   "codemirror_mode": {
    "name": "ipython",
    "version": 3
   },
   "file_extension": ".py",
   "mimetype": "text/x-python",
   "name": "python",
   "nbconvert_exporter": "python",
   "pygments_lexer": "ipython3",
   "version": "3.9.6"
  }
 },
 "nbformat": 4,
 "nbformat_minor": 2
}
